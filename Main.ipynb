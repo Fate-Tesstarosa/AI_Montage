{
 "cells": [
  {
   "cell_type": "markdown",
   "id": "1c32ea50",
   "metadata": {},
   "source": [
    "环境安装"
   ]
  },
  {
   "cell_type": "code",
   "execution_count": 1,
   "id": "7c73e513",
   "metadata": {
    "ExecuteTime": {
     "end_time": "2021-09-14T02:17:20.234159Z",
     "start_time": "2021-09-14T02:16:59.817973Z"
    },
    "scrolled": true
   },
   "outputs": [
    {
     "name": "stdout",
     "output_type": "stream",
     "text": [
      "Defaulting to user installation because normal site-packages is not writeable\n",
      "Looking in indexes: https://mirrors.aliyun.com/pypi/simple\n",
      "Collecting moviepy\n",
      "  Downloading https://mirrors.aliyun.com/pypi/packages/18/54/01a8c4e35c75ca9724d19a7e4de9dc23f0ceb8769102c7de056113af61c3/moviepy-1.0.3.tar.gz (388 kB)\n",
      "\u001b[K     |████████████████████████████████| 388 kB 318 kB/s eta 0:00:01\n",
      "\u001b[?25hRequirement already satisfied: decorator<5.0,>=4.0.2 in /home/yolov5test/.local/lib/python3.8/site-packages (from moviepy) (4.4.2)\n",
      "Requirement already satisfied: tqdm<5.0,>=4.11.2 in /home/yolov5test/.local/lib/python3.8/site-packages (from moviepy) (4.61.2)\n",
      "Requirement already satisfied: requests<3.0,>=2.8.1 in /usr/lib/python3/dist-packages (from moviepy) (2.22.0)\n",
      "Collecting proglog<=1.0.0\n",
      "  Downloading https://mirrors.aliyun.com/pypi/packages/fe/ab/4cb19b578e1364c0b2d6efd6521a8b4b4e5c4ae6528041d31a2a951dd991/proglog-0.1.9.tar.gz (10 kB)\n",
      "Requirement already satisfied: numpy>=1.17.3 in /home/yolov5test/.local/lib/python3.8/site-packages (from moviepy) (1.19.5)\n",
      "Collecting imageio<3.0,>=2.5\n",
      "  Downloading https://mirrors.aliyun.com/pypi/packages/6e/57/5d899fae74c1752f52869b613a8210a2480e1a69688e65df6cb26117d45d/imageio-2.9.0-py3-none-any.whl (3.3 MB)\n",
      "\u001b[K     |████████████████████████████████| 3.3 MB 2.5 MB/s eta 0:00:01\n",
      "\u001b[?25hCollecting imageio_ffmpeg>=0.2.0\n",
      "  Downloading https://mirrors.aliyun.com/pypi/packages/9c/b0/513647cdd9178f96eb146cae067c19105954e19e144a7423fc63c63b5829/imageio_ffmpeg-0.4.5-py3-none-manylinux2010_x86_64.whl (26.9 MB)\n",
      "\u001b[K     |████████████████████████████████| 26.9 MB 2.5 MB/s eta 0:00:01\n",
      "\u001b[?25hRequirement already satisfied: pillow in /usr/lib/python3/dist-packages (from imageio<3.0,>=2.5->moviepy) (7.0.0)\n",
      "Building wheels for collected packages: moviepy, proglog\n",
      "  Building wheel for moviepy (setup.py) ... \u001b[?25ldone\n",
      "\u001b[?25h  Created wheel for moviepy: filename=moviepy-1.0.3-py3-none-any.whl size=110743 sha256=727dace4b3cb9e91a48d5e1ae360673f6a7841ed73cfd318571ccd43a5f4df82\n",
      "  Stored in directory: /home/yolov5test/.cache/pip/wheels/fb/56/20/ea8039f0f19ff16db00131559d9290ff7cddf4711b64a3ff27\n",
      "  Building wheel for proglog (setup.py) ... \u001b[?25ldone\n",
      "\u001b[?25h  Created wheel for proglog: filename=proglog-0.1.9-py3-none-any.whl size=6156 sha256=cc5c0e13c99115d736981b8fb8511ee617b09151b9bab64f2a93c32c9db9a31c\n",
      "  Stored in directory: /home/yolov5test/.cache/pip/wheels/3a/91/2c/1c905394471c2f283b3f2997682e1d3d51fb35a089b08e923b\n",
      "Successfully built moviepy proglog\n",
      "Installing collected packages: proglog, imageio-ffmpeg, imageio, moviepy\n",
      "Successfully installed imageio-2.9.0 imageio-ffmpeg-0.4.5 moviepy-1.0.3 proglog-0.1.9\n",
      "\u001b[33mWARNING: You are using pip version 21.2.2; however, version 21.2.4 is available.\n",
      "You should consider upgrading via the '/usr/bin/python3 -m pip install --upgrade pip' command.\u001b[0m\n"
     ]
    }
   ],
   "source": [
    "!pip install moviepy"
   ]
  },
  {
   "cell_type": "markdown",
   "id": "d5da2d59",
   "metadata": {},
   "source": [
    "随机加载、随机连接、随机选取背景音乐、结果输出\n",
    "\n",
    "- 随机加载：将预处理输出后的视频（samples中的n个视频）进行load\n",
    "- 随机连接：随机拼接（后期如果可以进行语义分析的话，这里就可以使用输入的文本进行匹配链接；改进Editing切片，再按照顺序拼接就行）\n",
    "- 随机选取背景音乐：后续加入情感分析背景音乐，这里可以手动输入bgm（不建议手动输入，因为AI剪切出来的视频感情倾向模糊）"
   ]
  },
  {
   "cell_type": "code",
   "execution_count": 1,
   "id": "fc0614f8",
   "metadata": {
    "ExecuteTime": {
     "end_time": "2021-09-14T05:49:56.637829Z",
     "start_time": "2021-09-14T05:49:55.923481Z"
    }
   },
   "outputs": [],
   "source": [
    "from moviepy.editor import *\n",
    "import os, glob\n",
    "import random\n",
    "import argparse\n",
    "\n",
    "def extract_clip(samples, output_duration):\n",
    "\textract_duration = output_duration/len(samples)\n",
    "\textracted_samples = []\n",
    "\tfor s in samples:\n",
    "\t\tstart_point = random.uniform(0, s.duration - extract_duration)\n",
    "\t\tend_point = start_point + extract_duration\n",
    "\t\textracted_sample = s.subclip(start_point, end_point)\n",
    "\t\textracted_samples.append(extracted_sample)\n",
    "\treturn extracted_samples\n",
    "\n",
    "def combine_clip(samples):\n",
    "\tcombined_clip = concatenate_videoclips(samples)\n",
    "\tprint('Concatenation done')\n",
    "\treturn combined_clip\n",
    "\n",
    "def select_random_music(music_file_path):\n",
    "\tdir_folder = glob.glob(music_file_path)\n",
    "\treturn random.choice(dir_folder)\n",
    "\n",
    "def main(video_file_path, music_file_path, no_of_videos, output_duration):\n",
    "\tdir_folder = glob.glob(video_file_path)\n",
    "\n",
    "\t#随机选择并从 samples 里的文件夹里加载 n 个文件\n",
    "\trandom_sample_paths = random.sample(dir_folder, no_of_videos)\n",
    "\tloaded_samples = [VideoFileClip(x) for x in random_sample_paths]\n",
    "\n",
    "\t#提取并连接这些 samples\n",
    "\textracted_samples = extract_clip(loaded_samples, output_duration)\n",
    "\tcombined_clip = combine_clip(extracted_samples)\n",
    "\n",
    "\t#为本次剪辑内容随机选取音乐\n",
    "\tmusic = select_random_music(music_file_path)\n",
    "\tcombined_clip.audio = AudioFileClip(music).subclip(0, output_duration)\n",
    "\n",
    "\t#结果输出\n",
    "\tcombined_clip.write_videofile('output.mp4')\n",
    "\tcombined_clip.close()"
   ]
  },
  {
   "cell_type": "code",
   "execution_count": null,
   "id": "1a301e4b",
   "metadata": {},
   "outputs": [],
   "source": [
    "if __name__ == '__main__':\n",
    "\tparser = argparse.ArgumentParser(description='video_editor')\n",
    "\tparser.add_argument('--samples', type=int, default=10)\n",
    "\tparser.add_argument('--duration', type=int, default=10)\n",
    "\targs = parser.parse_args()\n",
    "\tvideo_file_path = input('Enter folder address of video samples: ')\n",
    "\tvideo_file_path += '\\\\*'\n",
    "\tmusic_file_path = input('Enter folder address of music samples: ')\n",
    "\tmusic_file_path += '\\\\*'\n",
    "\tmain(video_file_path, music_file_path, args.samples, args.duration) "
   ]
  }
 ],
 "metadata": {
  "kernelspec": {
   "display_name": "Python 3 (ipykernel)",
   "language": "python",
   "name": "python3"
  },
  "language_info": {
   "codemirror_mode": {
    "name": "ipython",
    "version": 3
   },
   "file_extension": ".py",
   "mimetype": "text/x-python",
   "name": "python",
   "nbconvert_exporter": "python",
   "pygments_lexer": "ipython3",
   "version": "3.8.10"
  },
  "toc": {
   "base_numbering": 1,
   "nav_menu": {},
   "number_sections": true,
   "sideBar": true,
   "skip_h1_title": false,
   "title_cell": "Table of Contents",
   "title_sidebar": "Contents",
   "toc_cell": false,
   "toc_position": {},
   "toc_section_display": true,
   "toc_window_display": true
  }
 },
 "nbformat": 4,
 "nbformat_minor": 5
}
